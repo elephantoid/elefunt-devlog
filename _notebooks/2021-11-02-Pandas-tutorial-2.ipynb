{
  "cells": [
    {
      "cell_type": "markdown",
      "metadata": {
        "id": "U0oCGrZTWfRB"
      },
      "source": [
        "# \"Pandas 정복기 [2]\"\n",
        "> \"데이터 핸들링을 위한 필수 라이브러리 Pandas\"\n",
        "\n",
        "- toc: true\n",
        "- badges: true\n",
        "- comments: true\n",
        "- categories: [Data analysis]\n",
        "- image: images/pandas/2.png\n",
        "- search_exclude: true\n"
      ]
    },
    {
      "cell_type": "code",
      "execution_count": 1,
      "metadata": {
        "id": "e4WqtyamWjaE"
      },
      "outputs": [],
      "source": [
        "#hide\n",
        "import pandas as pd\n",
        "import numpy as np\n",
        "import matplotlib.pyplot as plt"
      ]
    },
    {
      "cell_type": "code",
      "execution_count": 2,
      "metadata": {
        "colab": {
          "base_uri": "https://localhost:8080/"
        },
        "id": "b_sU0rbOWobE",
        "outputId": "094c7155-06cc-40d9-b9a2-884ec53fbfe2"
      },
      "outputs": [
        {
          "name": "stdout",
          "output_type": "stream",
          "text": [
            "Mounted at /content/drive\n"
          ]
        }
      ],
      "source": [
        "#hide\n",
        "from google.colab import drive\n",
        "drive.mount('/content/drive')"
      ]
    },
    {
      "cell_type": "code",
      "execution_count": 3,
      "metadata": {
        "id": "IB6m71_TW5ca"
      },
      "outputs": [],
      "source": [
        "#hide\n",
        "import os\n",
        "os.chdir('/content/drive/MyDrive/Kaggle')"
      ]
    },
    {
      "cell_type": "code",
      "execution_count": 4,
      "metadata": {
        "colab": {
          "base_uri": "https://localhost:8080/"
        },
        "id": "k4vavUPlWprJ",
        "outputId": "567c0fe8-2f43-4273-add6-eb22ccd53698"
      },
      "outputs": [
        {
          "name": "stdout",
          "output_type": "stream",
          "text": [
            "Warning: Looks like you're using an outdated API Version, please consider updating (server 1.5.12 / client 1.5.4)\n",
            "ref                                            deadline             category            reward  teamCount  userHasEntered  \n",
            "---------------------------------------------  -------------------  ---------------  ---------  ---------  --------------  \n",
            "contradictory-my-dear-watson                   2030-07-01 23:59:00  Getting Started     Prizes         61           False  \n",
            "gan-getting-started                            2030-07-01 23:59:00  Getting Started     Prizes         83           False  \n",
            "store-sales-time-series-forecasting            2030-06-30 23:59:00  Getting Started  Knowledge        461           False  \n",
            "tpu-getting-started                            2030-06-03 23:59:00  Getting Started  Knowledge        147           False  \n",
            "digit-recognizer                               2030-01-01 00:00:00  Getting Started  Knowledge       1456           False  \n",
            "titanic                                        2030-01-01 00:00:00  Getting Started  Knowledge      14825            True  \n",
            "house-prices-advanced-regression-techniques    2030-01-01 00:00:00  Getting Started  Knowledge       4314            True  \n",
            "connectx                                       2030-01-01 00:00:00  Getting Started  Knowledge        267           False  \n",
            "nlp-getting-started                            2030-01-01 00:00:00  Getting Started  Knowledge       1330           False  \n",
            "competitive-data-science-predict-future-sales  2022-12-31 23:59:00  Playground           Kudos      12844           False  \n",
            "petfinder-pawpularity-score                    2022-01-13 23:59:00  Research           $25,000       1551           False  \n",
            "optiver-realized-volatility-prediction         2022-01-10 23:59:00  Featured          $100,000       3852           False  \n",
            "nfl-big-data-bowl-2022                         2022-01-06 23:59:00  Analytics         $100,000          0           False  \n",
            "sartorius-cell-instance-segmentation           2021-12-30 23:59:00  Featured           $75,000        436           False  \n",
            "wikipedia-image-caption                        2021-12-09 11:59:00  Playground            Swag         71           False  \n",
            "lux-ai-2021                                    2021-12-06 23:59:00  Featured           $10,000        916           False  \n",
            "tabular-playground-series-nov-2021             2021-11-30 23:59:00  Playground            Swag        194           False  \n",
            "kaggle-survey-2021                             2021-11-28 23:59:00  Analytics          $30,000          0           False  \n",
            "chaii-hindi-and-tamil-question-answering       2021-11-15 23:59:00  Research           $10,000        786           False  \n",
            "ventilator-pressure-prediction                 2021-11-03 23:59:00  Research            $7,500       2586           False  \n"
          ]
        }
      ],
      "source": [
        "#hide\n",
        "!mkdir -p ~/.kaggle\n",
        "!cp kaggle.json ~/.kaggle/\n",
        "# Permission Warning 이 일어나지 않도록 \n",
        "!chmod 600 ~/.kaggle/kaggle.json\n",
        "# 본인이 참가한 모든 대회 보기 \n",
        "!kaggle competitions list"
      ]
    },
    {
      "cell_type": "code",
      "execution_count": 5,
      "metadata": {
        "colab": {
          "base_uri": "https://localhost:8080/"
        },
        "id": "egkC_M2KW1Wp",
        "outputId": "8ac821d0-e637-49d0-b190-3b8f17350ada"
      },
      "outputs": [
        {
          "name": "stdout",
          "output_type": "stream",
          "text": [
            "Warning: Looks like you're using an outdated API Version, please consider updating (server 1.5.12 / client 1.5.4)\n",
            "train.csv: Skipping, found more recently modified local copy (use --force to force download)\n",
            "test.csv: Skipping, found more recently modified local copy (use --force to force download)\n",
            "gender_submission.csv: Skipping, found more recently modified local copy (use --force to force download)\n"
          ]
        }
      ],
      "source": [
        "!kaggle competitions download -c titanic"
      ]
    },
    {
      "cell_type": "code",
      "execution_count": 6,
      "metadata": {
        "id": "AfyCp677W-zv"
      },
      "outputs": [],
      "source": [
        "# hide\n",
        "df=pd.read_csv(\"train.csv\")\n",
        "test= pd.read_csv('test.csv')\n",
        "IDtest= test[\"PassengerId\"]"
      ]
    },
    {
      "cell_type": "markdown",
      "metadata": {
        "id": "AAHr6Xh32TkP"
      },
      "source": [
        "두 번째 파트에서는 `Pandas`의 기술 통계 함수들과 집계함수(aggregation funtion) 그리고 피벗 테이블(Pivot table)에 대해 알아 보겠습니다.\n",
        "\n",
        "# Summary\n",
        "- `.median()`: 중앙값 , `mode()`: 최고 빈도수\n",
        "- `.min()`: 최솟값 , `.max()`: 최댓값\n",
        "-  `.var()`: 분산, `.std()`: 표준편차\n",
        "- `.sum()`: 합계\n",
        "- `quantile()`: 백분위수\n"
      ]
    },
    {
      "cell_type": "code",
      "execution_count": 9,
      "metadata": {
        "colab": {
          "base_uri": "https://localhost:8080/"
        },
        "id": "fKXa4QhuXFZe",
        "outputId": "e2d50c4d-fe2e-4422-bc4b-78c0c3564773"
      },
      "outputs": [
        {
          "data": {
            "text/plain": [
              "count    714.000000\n",
              "mean      29.699118\n",
              "std       14.526497\n",
              "min        0.420000\n",
              "25%       20.125000\n",
              "50%       28.000000\n",
              "75%       38.000000\n",
              "max       80.000000\n",
              "Name: Age, dtype: float64"
            ]
          },
          "execution_count": 9,
          "metadata": {},
          "output_type": "execute_result"
        }
      ],
      "source": [
        "age=df['Age']\n",
        "age.describe()"
      ]
    },
    {
      "cell_type": "markdown",
      "metadata": {
        "id": "F3R8dKB-3jAO"
      },
      "source": [
        "`describe()` 함수를 이용해서 간단하게 보면 타이타닉 나이대에 대한 통계를 확인할 수 있습니다. 직접 확인해 보겠습니다"
      ]
    },
    {
      "cell_type": "code",
      "execution_count": 10,
      "metadata": {
        "colab": {
          "base_uri": "https://localhost:8080/"
        },
        "id": "BIdHgJij3XHb",
        "outputId": "cc7e5f94-6f3e-4e6e-aa03-bc52c8429c30"
      },
      "outputs": [
        {
          "name": "stdout",
          "output_type": "stream",
          "text": [
            "중앙값:  28.0\n",
            "최빈수값:  0    24.0\n",
            "dtype: float64\n",
            "최솟값:  0.42\n",
            "최댓값:  80.0\n",
            "분산:  211.0191247463081\n",
            "표준편차:  14.526497332334044\n",
            "합계:  21205.17\n",
            "백분위수 중 0.5:  28.0\n"
          ]
        }
      ],
      "source": [
        "print('중앙값: ',age.median())\n",
        "print('최빈수값: ',age.mode())\n",
        "print('최솟값: ',age.min())\n",
        "print('최댓값: ',age.max())\n",
        "print('분산: ',age.var())\n",
        "print('표준편차: ',age.std())\n",
        "print('합계: ',age.sum())\n",
        "print('백분위수 중 0.5: ',age.quantile(0.5))\n"
      ]
    },
    {
      "cell_type": "markdown",
      "metadata": {
        "id": "upcE43Ot4Pmf"
      },
      "source": [
        "위의 `describe()`함수를 사용했던 결과값과 동일한 것을 확인할 수 있습니다."
      ]
    },
    {
      "cell_type": "markdown",
      "metadata": {
        "id": "rRcGaiqR4W42"
      },
      "source": [
        "누적 통계(Cumulative statistics)\n",
        "- `.cummax()` \n",
        "- `.cummin()`\n",
        "- `.cumprod()`"
      ]
    },
    {
      "cell_type": "markdown",
      "metadata": {
        "id": "8jA2l-6z4i9e"
      },
      "source": [
        "## Counting\n",
        "- `.value_counts()`\n",
        "- `.value_counts(sort=True)`\n",
        "- `.value_counts(normalize=True)`\n",
        "\n",
        "\n",
        "## Dropping duplicate(중복제거)\n",
        "\n",
        "- `.drop_duplicates(subset=\"컬럼명\")`\n",
        "- `.drop_duplicates(subset=[\"컬럼명\", \"컬럼명\"])`"
      ]
    },
    {
      "cell_type": "code",
      "execution_count": 11,
      "metadata": {
        "colab": {
          "base_uri": "https://localhost:8080/",
          "height": 204
        },
        "id": "DVjZHxrd4LoN",
        "outputId": "6897596a-2668-4d6c-c0d5-19a91723945b"
      },
      "outputs": [
        {
          "data": {
            "text/html": [
              "<div>\n",
              "<style scoped>\n",
              "    .dataframe tbody tr th:only-of-type {\n",
              "        vertical-align: middle;\n",
              "    }\n",
              "\n",
              "    .dataframe tbody tr th {\n",
              "        vertical-align: top;\n",
              "    }\n",
              "\n",
              "    .dataframe thead th {\n",
              "        text-align: right;\n",
              "    }\n",
              "</style>\n",
              "<table border=\"1\" class=\"dataframe\">\n",
              "  <thead>\n",
              "    <tr style=\"text-align: right;\">\n",
              "      <th></th>\n",
              "      <th>PassengerId</th>\n",
              "      <th>Survived</th>\n",
              "      <th>Pclass</th>\n",
              "      <th>Name</th>\n",
              "      <th>Sex</th>\n",
              "      <th>Age</th>\n",
              "      <th>SibSp</th>\n",
              "      <th>Parch</th>\n",
              "      <th>Ticket</th>\n",
              "      <th>Fare</th>\n",
              "      <th>Cabin</th>\n",
              "      <th>Embarked</th>\n",
              "    </tr>\n",
              "  </thead>\n",
              "  <tbody>\n",
              "    <tr>\n",
              "      <th>0</th>\n",
              "      <td>1</td>\n",
              "      <td>0</td>\n",
              "      <td>3</td>\n",
              "      <td>Braund, Mr. Owen Harris</td>\n",
              "      <td>male</td>\n",
              "      <td>22.0</td>\n",
              "      <td>1</td>\n",
              "      <td>0</td>\n",
              "      <td>A/5 21171</td>\n",
              "      <td>7.2500</td>\n",
              "      <td>NaN</td>\n",
              "      <td>S</td>\n",
              "    </tr>\n",
              "    <tr>\n",
              "      <th>1</th>\n",
              "      <td>2</td>\n",
              "      <td>1</td>\n",
              "      <td>1</td>\n",
              "      <td>Cumings, Mrs. John Bradley (Florence Briggs Th...</td>\n",
              "      <td>female</td>\n",
              "      <td>38.0</td>\n",
              "      <td>1</td>\n",
              "      <td>0</td>\n",
              "      <td>PC 17599</td>\n",
              "      <td>71.2833</td>\n",
              "      <td>C85</td>\n",
              "      <td>C</td>\n",
              "    </tr>\n",
              "    <tr>\n",
              "      <th>2</th>\n",
              "      <td>3</td>\n",
              "      <td>1</td>\n",
              "      <td>3</td>\n",
              "      <td>Heikkinen, Miss. Laina</td>\n",
              "      <td>female</td>\n",
              "      <td>26.0</td>\n",
              "      <td>0</td>\n",
              "      <td>0</td>\n",
              "      <td>STON/O2. 3101282</td>\n",
              "      <td>7.9250</td>\n",
              "      <td>NaN</td>\n",
              "      <td>S</td>\n",
              "    </tr>\n",
              "    <tr>\n",
              "      <th>3</th>\n",
              "      <td>4</td>\n",
              "      <td>1</td>\n",
              "      <td>1</td>\n",
              "      <td>Futrelle, Mrs. Jacques Heath (Lily May Peel)</td>\n",
              "      <td>female</td>\n",
              "      <td>35.0</td>\n",
              "      <td>1</td>\n",
              "      <td>0</td>\n",
              "      <td>113803</td>\n",
              "      <td>53.1000</td>\n",
              "      <td>C123</td>\n",
              "      <td>S</td>\n",
              "    </tr>\n",
              "    <tr>\n",
              "      <th>4</th>\n",
              "      <td>5</td>\n",
              "      <td>0</td>\n",
              "      <td>3</td>\n",
              "      <td>Allen, Mr. William Henry</td>\n",
              "      <td>male</td>\n",
              "      <td>35.0</td>\n",
              "      <td>0</td>\n",
              "      <td>0</td>\n",
              "      <td>373450</td>\n",
              "      <td>8.0500</td>\n",
              "      <td>NaN</td>\n",
              "      <td>S</td>\n",
              "    </tr>\n",
              "  </tbody>\n",
              "</table>\n",
              "</div>"
            ],
            "text/plain": [
              "   PassengerId  Survived  Pclass  ...     Fare Cabin  Embarked\n",
              "0            1         0       3  ...   7.2500   NaN         S\n",
              "1            2         1       1  ...  71.2833   C85         C\n",
              "2            3         1       3  ...   7.9250   NaN         S\n",
              "3            4         1       1  ...  53.1000  C123         S\n",
              "4            5         0       3  ...   8.0500   NaN         S\n",
              "\n",
              "[5 rows x 12 columns]"
            ]
          },
          "execution_count": 11,
          "metadata": {},
          "output_type": "execute_result"
        }
      ],
      "source": [
        "df.head()"
      ]
    },
    {
      "cell_type": "markdown",
      "metadata": {
        "id": "dc0ZGRhu5Vip"
      },
      "source": [
        "Pclass에 대해서 한 번 실습을 진행해보겠습니다."
      ]
    },
    {
      "cell_type": "code",
      "execution_count": 19,
      "metadata": {
        "colab": {
          "base_uri": "https://localhost:8080/"
        },
        "id": "Nk8OKNqX5RZ4",
        "outputId": "3eff4d50-a757-4a3c-d41b-a3daa4b6a51b"
      },
      "outputs": [
        {
          "data": {
            "text/plain": [
              "3    491\n",
              "1    216\n",
              "2    184\n",
              "Name: Pclass, dtype: int64"
            ]
          },
          "execution_count": 19,
          "metadata": {},
          "output_type": "execute_result"
        }
      ],
      "source": [
        "df['Pclass'].value_counts()"
      ]
    },
    {
      "cell_type": "code",
      "execution_count": 20,
      "metadata": {
        "colab": {
          "base_uri": "https://localhost:8080/"
        },
        "id": "LqVeSDm75cW9",
        "outputId": "154acf98-04d8-4946-a762-762f34032c63"
      },
      "outputs": [
        {
          "data": {
            "text/plain": [
              "3    491\n",
              "1    216\n",
              "2    184\n",
              "Name: Pclass, dtype: int64"
            ]
          },
          "execution_count": 20,
          "metadata": {},
          "output_type": "execute_result"
        }
      ],
      "source": [
        "df['Pclass'].value_counts(sort=True)"
      ]
    },
    {
      "cell_type": "code",
      "execution_count": 21,
      "metadata": {
        "colab": {
          "base_uri": "https://localhost:8080/"
        },
        "id": "hK92PLp96HNV",
        "outputId": "0feeb9fb-91fa-4062-fe4a-936b92678810"
      },
      "outputs": [
        {
          "data": {
            "text/plain": [
              "3    0.551066\n",
              "1    0.242424\n",
              "2    0.206510\n",
              "Name: Pclass, dtype: float64"
            ]
          },
          "execution_count": 21,
          "metadata": {},
          "output_type": "execute_result"
        }
      ],
      "source": [
        "df['Pclass'].value_counts(normalize=True)"
      ]
    },
    {
      "cell_type": "markdown",
      "metadata": {
        "id": "q5JP2mau6OGY"
      },
      "source": [
        "결과를 보다시피 기본적으로 정렬이 되어있으며 `normalize` 옵션을 `True`로 해줄 경우 개수가 아닌 0~1 사이의 값으로 변환된 것을 확인할 수 있습니다.  \n",
        "Pclass ==3 은 전체 중 55.1%를 차지하고 있습니다"
      ]
    },
    {
      "cell_type": "markdown",
      "metadata": {
        "id": "rFo6ACvu60wG"
      },
      "source": [
        "# Grouping\n",
        "다음은 `Groupby()` 함수에 대해서 알아보겠습니다.  \n",
        "Group by 함수는 특정 컬럼을 기준으로 그룹화를 도와주는 함수입니다.  \n",
        "그룹화된 함수에 통계 함수 또한 사용이 가능합니다.\n",
        "\n",
        "\n",
        "Pclass를 기준으로 하여 데이터 프레임을 생성합니다"
      ]
    },
    {
      "cell_type": "code",
      "execution_count": 24,
      "metadata": {
        "id": "cx7t4MlH7s70"
      },
      "outputs": [],
      "source": [
        "gb_class=df.groupby('Pclass')"
      ]
    },
    {
      "cell_type": "markdown",
      "metadata": {
        "id": "h5tqf_H-8BjY"
      },
      "source": [
        "그룹만 만들었다고 바로 볼 수 없습니다."
      ]
    },
    {
      "cell_type": "code",
      "execution_count": 25,
      "metadata": {
        "colab": {
          "base_uri": "https://localhost:8080/"
        },
        "id": "Gkd-OU6p71_B",
        "outputId": "82430638-5dcf-4404-d8b9-d03dfa7057bb"
      },
      "outputs": [
        {
          "name": "stdout",
          "output_type": "stream",
          "text": [
            "* key 1\n",
            "* count 216\n",
            "    PassengerId  Survived  Pclass  ...     Fare Cabin  Embarked\n",
            "1             2         1       1  ...  71.2833   C85         C\n",
            "3             4         1       1  ...  53.1000  C123         S\n",
            "6             7         0       1  ...  51.8625   E46         S\n",
            "11           12         1       1  ...  26.5500  C103         S\n",
            "23           24         1       1  ...  35.5000    A6         S\n",
            "\n",
            "[5 rows x 12 columns]\n",
            "\n",
            "\n",
            "* key 2\n",
            "* count 184\n",
            "    PassengerId  Survived  Pclass  ...     Fare Cabin  Embarked\n",
            "9            10         1       2  ...  30.0708   NaN         C\n",
            "15           16         1       2  ...  16.0000   NaN         S\n",
            "17           18         1       2  ...  13.0000   NaN         S\n",
            "20           21         0       2  ...  26.0000   NaN         S\n",
            "21           22         1       2  ...  13.0000   D56         S\n",
            "\n",
            "[5 rows x 12 columns]\n",
            "\n",
            "\n",
            "* key 3\n",
            "* count 491\n",
            "   PassengerId  Survived  Pclass  ...     Fare Cabin  Embarked\n",
            "0            1         0       3  ...   7.2500   NaN         S\n",
            "2            3         1       3  ...   7.9250   NaN         S\n",
            "4            5         0       3  ...   8.0500   NaN         S\n",
            "5            6         0       3  ...   8.4583   NaN         Q\n",
            "7            8         0       3  ...  21.0750   NaN         S\n",
            "\n",
            "[5 rows x 12 columns]\n",
            "\n",
            "\n"
          ]
        }
      ],
      "source": [
        "for key, group in gb_class:\n",
        "    print(\"* key\", key)\n",
        "    print(\"* count\", len(group))\n",
        "    print(group.head())\n",
        "    print('\\n')"
      ]
    },
    {
      "cell_type": "markdown",
      "metadata": {
        "id": "dmNe2C4m8WQn"
      },
      "source": [
        "여기서 각 그룹의 정보를 가져올려면 `get_group()` 함수를 사용하면 됩니다"
      ]
    },
    {
      "cell_type": "code",
      "execution_count": 28,
      "metadata": {
        "colab": {
          "base_uri": "https://localhost:8080/",
          "height": 204
        },
        "id": "iyEorMEQ8I9J",
        "outputId": "76ecd24d-0024-4753-a9b5-6532ccda369a"
      },
      "outputs": [
        {
          "data": {
            "text/html": [
              "<div>\n",
              "<style scoped>\n",
              "    .dataframe tbody tr th:only-of-type {\n",
              "        vertical-align: middle;\n",
              "    }\n",
              "\n",
              "    .dataframe tbody tr th {\n",
              "        vertical-align: top;\n",
              "    }\n",
              "\n",
              "    .dataframe thead th {\n",
              "        text-align: right;\n",
              "    }\n",
              "</style>\n",
              "<table border=\"1\" class=\"dataframe\">\n",
              "  <thead>\n",
              "    <tr style=\"text-align: right;\">\n",
              "      <th></th>\n",
              "      <th>PassengerId</th>\n",
              "      <th>Survived</th>\n",
              "      <th>Pclass</th>\n",
              "      <th>Name</th>\n",
              "      <th>Sex</th>\n",
              "      <th>Age</th>\n",
              "      <th>SibSp</th>\n",
              "      <th>Parch</th>\n",
              "      <th>Ticket</th>\n",
              "      <th>Fare</th>\n",
              "      <th>Cabin</th>\n",
              "      <th>Embarked</th>\n",
              "    </tr>\n",
              "  </thead>\n",
              "  <tbody>\n",
              "    <tr>\n",
              "      <th>1</th>\n",
              "      <td>2</td>\n",
              "      <td>1</td>\n",
              "      <td>1</td>\n",
              "      <td>Cumings, Mrs. John Bradley (Florence Briggs Th...</td>\n",
              "      <td>female</td>\n",
              "      <td>38.0</td>\n",
              "      <td>1</td>\n",
              "      <td>0</td>\n",
              "      <td>PC 17599</td>\n",
              "      <td>71.2833</td>\n",
              "      <td>C85</td>\n",
              "      <td>C</td>\n",
              "    </tr>\n",
              "    <tr>\n",
              "      <th>3</th>\n",
              "      <td>4</td>\n",
              "      <td>1</td>\n",
              "      <td>1</td>\n",
              "      <td>Futrelle, Mrs. Jacques Heath (Lily May Peel)</td>\n",
              "      <td>female</td>\n",
              "      <td>35.0</td>\n",
              "      <td>1</td>\n",
              "      <td>0</td>\n",
              "      <td>113803</td>\n",
              "      <td>53.1000</td>\n",
              "      <td>C123</td>\n",
              "      <td>S</td>\n",
              "    </tr>\n",
              "    <tr>\n",
              "      <th>6</th>\n",
              "      <td>7</td>\n",
              "      <td>0</td>\n",
              "      <td>1</td>\n",
              "      <td>McCarthy, Mr. Timothy J</td>\n",
              "      <td>male</td>\n",
              "      <td>54.0</td>\n",
              "      <td>0</td>\n",
              "      <td>0</td>\n",
              "      <td>17463</td>\n",
              "      <td>51.8625</td>\n",
              "      <td>E46</td>\n",
              "      <td>S</td>\n",
              "    </tr>\n",
              "    <tr>\n",
              "      <th>11</th>\n",
              "      <td>12</td>\n",
              "      <td>1</td>\n",
              "      <td>1</td>\n",
              "      <td>Bonnell, Miss. Elizabeth</td>\n",
              "      <td>female</td>\n",
              "      <td>58.0</td>\n",
              "      <td>0</td>\n",
              "      <td>0</td>\n",
              "      <td>113783</td>\n",
              "      <td>26.5500</td>\n",
              "      <td>C103</td>\n",
              "      <td>S</td>\n",
              "    </tr>\n",
              "    <tr>\n",
              "      <th>23</th>\n",
              "      <td>24</td>\n",
              "      <td>1</td>\n",
              "      <td>1</td>\n",
              "      <td>Sloper, Mr. William Thompson</td>\n",
              "      <td>male</td>\n",
              "      <td>28.0</td>\n",
              "      <td>0</td>\n",
              "      <td>0</td>\n",
              "      <td>113788</td>\n",
              "      <td>35.5000</td>\n",
              "      <td>A6</td>\n",
              "      <td>S</td>\n",
              "    </tr>\n",
              "  </tbody>\n",
              "</table>\n",
              "</div>"
            ],
            "text/plain": [
              "    PassengerId  Survived  Pclass  ...     Fare Cabin  Embarked\n",
              "1             2         1       1  ...  71.2833   C85         C\n",
              "3             4         1       1  ...  53.1000  C123         S\n",
              "6             7         0       1  ...  51.8625   E46         S\n",
              "11           12         1       1  ...  26.5500  C103         S\n",
              "23           24         1       1  ...  35.5000    A6         S\n",
              "\n",
              "[5 rows x 12 columns]"
            ]
          },
          "execution_count": 28,
          "metadata": {},
          "output_type": "execute_result"
        }
      ],
      "source": [
        "# Pclass 1에 해당하는 그룹\n",
        "gb_class.get_group(1).head()"
      ]
    },
    {
      "cell_type": "markdown",
      "metadata": {
        "id": "pIprjlta8o-w"
      },
      "source": [
        "위에서 말씀드린 것처럼 그룹화 이후 통계함수를 사용할 수 있다고 했는데 바로 사용해보도록 하겠습니다"
      ]
    },
    {
      "cell_type": "code",
      "execution_count": 29,
      "metadata": {
        "colab": {
          "base_uri": "https://localhost:8080/",
          "height": 173
        },
        "id": "uJW1j73W8ejV",
        "outputId": "832b0087-af2a-403d-a280-b61902b9986c"
      },
      "outputs": [
        {
          "data": {
            "text/html": [
              "<div>\n",
              "<style scoped>\n",
              "    .dataframe tbody tr th:only-of-type {\n",
              "        vertical-align: middle;\n",
              "    }\n",
              "\n",
              "    .dataframe tbody tr th {\n",
              "        vertical-align: top;\n",
              "    }\n",
              "\n",
              "    .dataframe thead th {\n",
              "        text-align: right;\n",
              "    }\n",
              "</style>\n",
              "<table border=\"1\" class=\"dataframe\">\n",
              "  <thead>\n",
              "    <tr style=\"text-align: right;\">\n",
              "      <th></th>\n",
              "      <th>PassengerId</th>\n",
              "      <th>Survived</th>\n",
              "      <th>Age</th>\n",
              "      <th>SibSp</th>\n",
              "      <th>Parch</th>\n",
              "      <th>Fare</th>\n",
              "    </tr>\n",
              "    <tr>\n",
              "      <th>Pclass</th>\n",
              "      <th></th>\n",
              "      <th></th>\n",
              "      <th></th>\n",
              "      <th></th>\n",
              "      <th></th>\n",
              "      <th></th>\n",
              "    </tr>\n",
              "  </thead>\n",
              "  <tbody>\n",
              "    <tr>\n",
              "      <th>1</th>\n",
              "      <td>461.597222</td>\n",
              "      <td>0.629630</td>\n",
              "      <td>38.233441</td>\n",
              "      <td>0.416667</td>\n",
              "      <td>0.356481</td>\n",
              "      <td>84.154687</td>\n",
              "    </tr>\n",
              "    <tr>\n",
              "      <th>2</th>\n",
              "      <td>445.956522</td>\n",
              "      <td>0.472826</td>\n",
              "      <td>29.877630</td>\n",
              "      <td>0.402174</td>\n",
              "      <td>0.380435</td>\n",
              "      <td>20.662183</td>\n",
              "    </tr>\n",
              "    <tr>\n",
              "      <th>3</th>\n",
              "      <td>439.154786</td>\n",
              "      <td>0.242363</td>\n",
              "      <td>25.140620</td>\n",
              "      <td>0.615071</td>\n",
              "      <td>0.393075</td>\n",
              "      <td>13.675550</td>\n",
              "    </tr>\n",
              "  </tbody>\n",
              "</table>\n",
              "</div>"
            ],
            "text/plain": [
              "        PassengerId  Survived        Age     SibSp     Parch       Fare\n",
              "Pclass                                                                 \n",
              "1        461.597222  0.629630  38.233441  0.416667  0.356481  84.154687\n",
              "2        445.956522  0.472826  29.877630  0.402174  0.380435  20.662183\n",
              "3        439.154786  0.242363  25.140620  0.615071  0.393075  13.675550"
            ]
          },
          "execution_count": 29,
          "metadata": {},
          "output_type": "execute_result"
        }
      ],
      "source": [
        "gb_class.mean()"
      ]
    },
    {
      "cell_type": "code",
      "execution_count": 30,
      "metadata": {
        "colab": {
          "base_uri": "https://localhost:8080/",
          "height": 173
        },
        "id": "M-C-fRqp8yVp",
        "outputId": "008dfb71-801e-408a-e5ee-386f8d875587"
      },
      "outputs": [
        {
          "data": {
            "text/html": [
              "<div>\n",
              "<style scoped>\n",
              "    .dataframe tbody tr th:only-of-type {\n",
              "        vertical-align: middle;\n",
              "    }\n",
              "\n",
              "    .dataframe tbody tr th {\n",
              "        vertical-align: top;\n",
              "    }\n",
              "\n",
              "    .dataframe thead th {\n",
              "        text-align: right;\n",
              "    }\n",
              "</style>\n",
              "<table border=\"1\" class=\"dataframe\">\n",
              "  <thead>\n",
              "    <tr style=\"text-align: right;\">\n",
              "      <th></th>\n",
              "      <th>min</th>\n",
              "      <th>max</th>\n",
              "      <th>sum</th>\n",
              "    </tr>\n",
              "    <tr>\n",
              "      <th>Pclass</th>\n",
              "      <th></th>\n",
              "      <th></th>\n",
              "      <th></th>\n",
              "    </tr>\n",
              "  </thead>\n",
              "  <tbody>\n",
              "    <tr>\n",
              "      <th>1</th>\n",
              "      <td>0</td>\n",
              "      <td>3</td>\n",
              "      <td>90</td>\n",
              "    </tr>\n",
              "    <tr>\n",
              "      <th>2</th>\n",
              "      <td>0</td>\n",
              "      <td>3</td>\n",
              "      <td>74</td>\n",
              "    </tr>\n",
              "    <tr>\n",
              "      <th>3</th>\n",
              "      <td>0</td>\n",
              "      <td>8</td>\n",
              "      <td>302</td>\n",
              "    </tr>\n",
              "  </tbody>\n",
              "</table>\n",
              "</div>"
            ],
            "text/plain": [
              "        min  max  sum\n",
              "Pclass               \n",
              "1         0    3   90\n",
              "2         0    3   74\n",
              "3         0    8  302"
            ]
          },
          "execution_count": 30,
          "metadata": {},
          "output_type": "execute_result"
        }
      ],
      "source": [
        "df.groupby('Pclass')['SibSp'].agg([min, max, sum])"
      ]
    },
    {
      "cell_type": "markdown",
      "metadata": {
        "id": "fDk7EwwD9LNw"
      },
      "source": [
        "위 코드는 Pclass를 기준으로 형제자매 수에 대해 min, max, sum 함수를 사용한 것입니다.  \n",
        "3가지 클래스 모두 최솟값은 0이며 Plcass 3의 최댓값이 8인 것을 확인할 수 있습니다. 또한 sum 함수의 결과로 클래스 3에 가장 많은 사람이 몰려 있는 것을 확인할 수 있습니다.\n",
        "\n",
        "\n",
        "추가로 groupby를 할 때 기준 열을 두 개로도 지정이 가능합니다."
      ]
    },
    {
      "cell_type": "code",
      "execution_count": 32,
      "metadata": {
        "colab": {
          "base_uri": "https://localhost:8080/",
          "height": 266
        },
        "id": "o1aKGbhE-KUB",
        "outputId": "0801da6c-6bfd-4dc1-ff6c-3dd05f039432"
      },
      "outputs": [
        {
          "data": {
            "text/html": [
              "<div>\n",
              "<style scoped>\n",
              "    .dataframe tbody tr th:only-of-type {\n",
              "        vertical-align: middle;\n",
              "    }\n",
              "\n",
              "    .dataframe tbody tr th {\n",
              "        vertical-align: top;\n",
              "    }\n",
              "\n",
              "    .dataframe thead th {\n",
              "        text-align: right;\n",
              "    }\n",
              "</style>\n",
              "<table border=\"1\" class=\"dataframe\">\n",
              "  <thead>\n",
              "    <tr style=\"text-align: right;\">\n",
              "      <th></th>\n",
              "      <th></th>\n",
              "      <th>PassengerId</th>\n",
              "      <th>Survived</th>\n",
              "      <th>Age</th>\n",
              "      <th>SibSp</th>\n",
              "      <th>Parch</th>\n",
              "      <th>Fare</th>\n",
              "    </tr>\n",
              "    <tr>\n",
              "      <th>Pclass</th>\n",
              "      <th>Sex</th>\n",
              "      <th></th>\n",
              "      <th></th>\n",
              "      <th></th>\n",
              "      <th></th>\n",
              "      <th></th>\n",
              "      <th></th>\n",
              "    </tr>\n",
              "  </thead>\n",
              "  <tbody>\n",
              "    <tr>\n",
              "      <th rowspan=\"2\" valign=\"top\">1</th>\n",
              "      <th>female</th>\n",
              "      <td>469.212766</td>\n",
              "      <td>0.968085</td>\n",
              "      <td>34.611765</td>\n",
              "      <td>0.553191</td>\n",
              "      <td>0.457447</td>\n",
              "      <td>106.125798</td>\n",
              "    </tr>\n",
              "    <tr>\n",
              "      <th>male</th>\n",
              "      <td>455.729508</td>\n",
              "      <td>0.368852</td>\n",
              "      <td>41.281386</td>\n",
              "      <td>0.311475</td>\n",
              "      <td>0.278689</td>\n",
              "      <td>67.226127</td>\n",
              "    </tr>\n",
              "    <tr>\n",
              "      <th rowspan=\"2\" valign=\"top\">2</th>\n",
              "      <th>female</th>\n",
              "      <td>443.105263</td>\n",
              "      <td>0.921053</td>\n",
              "      <td>28.722973</td>\n",
              "      <td>0.486842</td>\n",
              "      <td>0.605263</td>\n",
              "      <td>21.970121</td>\n",
              "    </tr>\n",
              "    <tr>\n",
              "      <th>male</th>\n",
              "      <td>447.962963</td>\n",
              "      <td>0.157407</td>\n",
              "      <td>30.740707</td>\n",
              "      <td>0.342593</td>\n",
              "      <td>0.222222</td>\n",
              "      <td>19.741782</td>\n",
              "    </tr>\n",
              "    <tr>\n",
              "      <th rowspan=\"2\" valign=\"top\">3</th>\n",
              "      <th>female</th>\n",
              "      <td>399.729167</td>\n",
              "      <td>0.500000</td>\n",
              "      <td>21.750000</td>\n",
              "      <td>0.895833</td>\n",
              "      <td>0.798611</td>\n",
              "      <td>16.118810</td>\n",
              "    </tr>\n",
              "    <tr>\n",
              "      <th>male</th>\n",
              "      <td>455.515850</td>\n",
              "      <td>0.135447</td>\n",
              "      <td>26.507589</td>\n",
              "      <td>0.498559</td>\n",
              "      <td>0.224784</td>\n",
              "      <td>12.661633</td>\n",
              "    </tr>\n",
              "  </tbody>\n",
              "</table>\n",
              "</div>"
            ],
            "text/plain": [
              "               PassengerId  Survived        Age     SibSp     Parch        Fare\n",
              "Pclass Sex                                                                     \n",
              "1      female   469.212766  0.968085  34.611765  0.553191  0.457447  106.125798\n",
              "       male     455.729508  0.368852  41.281386  0.311475  0.278689   67.226127\n",
              "2      female   443.105263  0.921053  28.722973  0.486842  0.605263   21.970121\n",
              "       male     447.962963  0.157407  30.740707  0.342593  0.222222   19.741782\n",
              "3      female   399.729167  0.500000  21.750000  0.895833  0.798611   16.118810\n",
              "       male     455.515850  0.135447  26.507589  0.498559  0.224784   12.661633"
            ]
          },
          "execution_count": 32,
          "metadata": {},
          "output_type": "execute_result"
        }
      ],
      "source": [
        "df.groupby(['Pclass','Sex']).mean()"
      ]
    },
    {
      "cell_type": "markdown",
      "metadata": {
        "id": "sCKjW-By-T0n"
      },
      "source": [
        "이렇게 두 가지 기준열을 넣음으로써 클래스별 남녀에 따른 값을 확인할 수 있습니다.  \n",
        "생존에 대해 봤을 때 클래스 1, 2의 여자 생존률은 매우 높은 반면 남자는 매우 낮은 것을 확인할 수 있습니다. 그리고 아까 클래스 3에 사람이 많다고 했었죠? 클래스 3의 여자 생존률은 왜 1, 2에 비해 낮은지도 확인해 볼 필요가 있습니다"
      ]
    },
    {
      "cell_type": "markdown",
      "metadata": {
        "id": "KD3gNp_Y9lsC"
      },
      "source": [
        "# Pivot table\n",
        "마지막으로 피벗 테이블 입니다.  \n",
        "pivot_table() 함수의 기본 구성요소는 다음과 같습니다\n",
        "- index: 행 인덱스\n",
        "- columns: 열 인덱스\n",
        "- values: 데이터로 사용할 값\n",
        "- aggfunc: 데이터 집계함수\n",
        "\n",
        "groupby와 한번 비교해 보겠습니다\n"
      ]
    },
    {
      "cell_type": "code",
      "execution_count": 33,
      "metadata": {
        "colab": {
          "base_uri": "https://localhost:8080/",
          "height": 173
        },
        "id": "01RqmQCJ9HRd",
        "outputId": "f9ce9db8-2a7e-4be7-ef16-da7ff466eb0a"
      },
      "outputs": [
        {
          "data": {
            "text/html": [
              "<div>\n",
              "<style scoped>\n",
              "    .dataframe tbody tr th:only-of-type {\n",
              "        vertical-align: middle;\n",
              "    }\n",
              "\n",
              "    .dataframe tbody tr th {\n",
              "        vertical-align: top;\n",
              "    }\n",
              "\n",
              "    .dataframe thead th {\n",
              "        text-align: right;\n",
              "    }\n",
              "</style>\n",
              "<table border=\"1\" class=\"dataframe\">\n",
              "  <thead>\n",
              "    <tr style=\"text-align: right;\">\n",
              "      <th></th>\n",
              "      <th>PassengerId</th>\n",
              "      <th>Survived</th>\n",
              "      <th>Age</th>\n",
              "      <th>SibSp</th>\n",
              "      <th>Parch</th>\n",
              "      <th>Fare</th>\n",
              "    </tr>\n",
              "    <tr>\n",
              "      <th>Pclass</th>\n",
              "      <th></th>\n",
              "      <th></th>\n",
              "      <th></th>\n",
              "      <th></th>\n",
              "      <th></th>\n",
              "      <th></th>\n",
              "    </tr>\n",
              "  </thead>\n",
              "  <tbody>\n",
              "    <tr>\n",
              "      <th>1</th>\n",
              "      <td>461.597222</td>\n",
              "      <td>0.629630</td>\n",
              "      <td>38.233441</td>\n",
              "      <td>0.416667</td>\n",
              "      <td>0.356481</td>\n",
              "      <td>84.154687</td>\n",
              "    </tr>\n",
              "    <tr>\n",
              "      <th>2</th>\n",
              "      <td>445.956522</td>\n",
              "      <td>0.472826</td>\n",
              "      <td>29.877630</td>\n",
              "      <td>0.402174</td>\n",
              "      <td>0.380435</td>\n",
              "      <td>20.662183</td>\n",
              "    </tr>\n",
              "    <tr>\n",
              "      <th>3</th>\n",
              "      <td>439.154786</td>\n",
              "      <td>0.242363</td>\n",
              "      <td>25.140620</td>\n",
              "      <td>0.615071</td>\n",
              "      <td>0.393075</td>\n",
              "      <td>13.675550</td>\n",
              "    </tr>\n",
              "  </tbody>\n",
              "</table>\n",
              "</div>"
            ],
            "text/plain": [
              "        PassengerId  Survived        Age     SibSp     Parch       Fare\n",
              "Pclass                                                                 \n",
              "1        461.597222  0.629630  38.233441  0.416667  0.356481  84.154687\n",
              "2        445.956522  0.472826  29.877630  0.402174  0.380435  20.662183\n",
              "3        439.154786  0.242363  25.140620  0.615071  0.393075  13.675550"
            ]
          },
          "execution_count": 33,
          "metadata": {},
          "output_type": "execute_result"
        }
      ],
      "source": [
        "df.groupby('Pclass').mean()"
      ]
    },
    {
      "cell_type": "code",
      "execution_count": 36,
      "metadata": {
        "colab": {
          "base_uri": "https://localhost:8080/",
          "height": 173
        },
        "id": "2cIgD8BM_qm0",
        "outputId": "c76ab03f-1cab-48fc-d32b-5d9748913ca0"
      },
      "outputs": [
        {
          "data": {
            "text/html": [
              "<div>\n",
              "<style scoped>\n",
              "    .dataframe tbody tr th:only-of-type {\n",
              "        vertical-align: middle;\n",
              "    }\n",
              "\n",
              "    .dataframe tbody tr th {\n",
              "        vertical-align: top;\n",
              "    }\n",
              "\n",
              "    .dataframe thead th {\n",
              "        text-align: right;\n",
              "    }\n",
              "</style>\n",
              "<table border=\"1\" class=\"dataframe\">\n",
              "  <thead>\n",
              "    <tr style=\"text-align: right;\">\n",
              "      <th></th>\n",
              "      <th>Age</th>\n",
              "      <th>Fare</th>\n",
              "      <th>Parch</th>\n",
              "      <th>PassengerId</th>\n",
              "      <th>SibSp</th>\n",
              "      <th>Survived</th>\n",
              "    </tr>\n",
              "    <tr>\n",
              "      <th>Pclass</th>\n",
              "      <th></th>\n",
              "      <th></th>\n",
              "      <th></th>\n",
              "      <th></th>\n",
              "      <th></th>\n",
              "      <th></th>\n",
              "    </tr>\n",
              "  </thead>\n",
              "  <tbody>\n",
              "    <tr>\n",
              "      <th>1</th>\n",
              "      <td>38.233441</td>\n",
              "      <td>84.154687</td>\n",
              "      <td>0.356481</td>\n",
              "      <td>461.597222</td>\n",
              "      <td>0.416667</td>\n",
              "      <td>0.629630</td>\n",
              "    </tr>\n",
              "    <tr>\n",
              "      <th>2</th>\n",
              "      <td>29.877630</td>\n",
              "      <td>20.662183</td>\n",
              "      <td>0.380435</td>\n",
              "      <td>445.956522</td>\n",
              "      <td>0.402174</td>\n",
              "      <td>0.472826</td>\n",
              "    </tr>\n",
              "    <tr>\n",
              "      <th>3</th>\n",
              "      <td>25.140620</td>\n",
              "      <td>13.675550</td>\n",
              "      <td>0.393075</td>\n",
              "      <td>439.154786</td>\n",
              "      <td>0.615071</td>\n",
              "      <td>0.242363</td>\n",
              "    </tr>\n",
              "  </tbody>\n",
              "</table>\n",
              "</div>"
            ],
            "text/plain": [
              "              Age       Fare     Parch  PassengerId     SibSp  Survived\n",
              "Pclass                                                                 \n",
              "1       38.233441  84.154687  0.356481   461.597222  0.416667  0.629630\n",
              "2       29.877630  20.662183  0.380435   445.956522  0.402174  0.472826\n",
              "3       25.140620  13.675550  0.393075   439.154786  0.615071  0.242363"
            ]
          },
          "execution_count": 36,
          "metadata": {},
          "output_type": "execute_result"
        }
      ],
      "source": [
        "df.pivot_table(index='Pclass', aggfunc=np.mean)"
      ]
    },
    {
      "cell_type": "markdown",
      "metadata": {
        "id": "p_EghXOIAEmS"
      },
      "source": [
        "열의 순서가 좀 다르긴 하지만 내용은 두 가지 모두 같습니다.  \n",
        "Group by 함수 결과와 똑같이 만드는 것을 연습해 보신다면 도움이 많이 될 것 같습니다"
      ]
    },
    {
      "cell_type": "code",
      "execution_count": 37,
      "metadata": {
        "colab": {
          "base_uri": "https://localhost:8080/",
          "height": 266
        },
        "id": "BDdROwLE_y-G",
        "outputId": "eae73c49-a15f-4ea7-edc6-4436489751e7"
      },
      "outputs": [
        {
          "data": {
            "text/html": [
              "<div>\n",
              "<style scoped>\n",
              "    .dataframe tbody tr th:only-of-type {\n",
              "        vertical-align: middle;\n",
              "    }\n",
              "\n",
              "    .dataframe tbody tr th {\n",
              "        vertical-align: top;\n",
              "    }\n",
              "\n",
              "    .dataframe thead th {\n",
              "        text-align: right;\n",
              "    }\n",
              "</style>\n",
              "<table border=\"1\" class=\"dataframe\">\n",
              "  <thead>\n",
              "    <tr style=\"text-align: right;\">\n",
              "      <th></th>\n",
              "      <th></th>\n",
              "      <th>PassengerId</th>\n",
              "      <th>Survived</th>\n",
              "      <th>Age</th>\n",
              "      <th>SibSp</th>\n",
              "      <th>Parch</th>\n",
              "      <th>Fare</th>\n",
              "    </tr>\n",
              "    <tr>\n",
              "      <th>Pclass</th>\n",
              "      <th>Sex</th>\n",
              "      <th></th>\n",
              "      <th></th>\n",
              "      <th></th>\n",
              "      <th></th>\n",
              "      <th></th>\n",
              "      <th></th>\n",
              "    </tr>\n",
              "  </thead>\n",
              "  <tbody>\n",
              "    <tr>\n",
              "      <th rowspan=\"2\" valign=\"top\">1</th>\n",
              "      <th>female</th>\n",
              "      <td>469.212766</td>\n",
              "      <td>0.968085</td>\n",
              "      <td>34.611765</td>\n",
              "      <td>0.553191</td>\n",
              "      <td>0.457447</td>\n",
              "      <td>106.125798</td>\n",
              "    </tr>\n",
              "    <tr>\n",
              "      <th>male</th>\n",
              "      <td>455.729508</td>\n",
              "      <td>0.368852</td>\n",
              "      <td>41.281386</td>\n",
              "      <td>0.311475</td>\n",
              "      <td>0.278689</td>\n",
              "      <td>67.226127</td>\n",
              "    </tr>\n",
              "    <tr>\n",
              "      <th rowspan=\"2\" valign=\"top\">2</th>\n",
              "      <th>female</th>\n",
              "      <td>443.105263</td>\n",
              "      <td>0.921053</td>\n",
              "      <td>28.722973</td>\n",
              "      <td>0.486842</td>\n",
              "      <td>0.605263</td>\n",
              "      <td>21.970121</td>\n",
              "    </tr>\n",
              "    <tr>\n",
              "      <th>male</th>\n",
              "      <td>447.962963</td>\n",
              "      <td>0.157407</td>\n",
              "      <td>30.740707</td>\n",
              "      <td>0.342593</td>\n",
              "      <td>0.222222</td>\n",
              "      <td>19.741782</td>\n",
              "    </tr>\n",
              "    <tr>\n",
              "      <th rowspan=\"2\" valign=\"top\">3</th>\n",
              "      <th>female</th>\n",
              "      <td>399.729167</td>\n",
              "      <td>0.500000</td>\n",
              "      <td>21.750000</td>\n",
              "      <td>0.895833</td>\n",
              "      <td>0.798611</td>\n",
              "      <td>16.118810</td>\n",
              "    </tr>\n",
              "    <tr>\n",
              "      <th>male</th>\n",
              "      <td>455.515850</td>\n",
              "      <td>0.135447</td>\n",
              "      <td>26.507589</td>\n",
              "      <td>0.498559</td>\n",
              "      <td>0.224784</td>\n",
              "      <td>12.661633</td>\n",
              "    </tr>\n",
              "  </tbody>\n",
              "</table>\n",
              "</div>"
            ],
            "text/plain": [
              "               PassengerId  Survived        Age     SibSp     Parch        Fare\n",
              "Pclass Sex                                                                     \n",
              "1      female   469.212766  0.968085  34.611765  0.553191  0.457447  106.125798\n",
              "       male     455.729508  0.368852  41.281386  0.311475  0.278689   67.226127\n",
              "2      female   443.105263  0.921053  28.722973  0.486842  0.605263   21.970121\n",
              "       male     447.962963  0.157407  30.740707  0.342593  0.222222   19.741782\n",
              "3      female   399.729167  0.500000  21.750000  0.895833  0.798611   16.118810\n",
              "       male     455.515850  0.135447  26.507589  0.498559  0.224784   12.661633"
            ]
          },
          "execution_count": 37,
          "metadata": {},
          "output_type": "execute_result"
        }
      ],
      "source": [
        "df.groupby(['Pclass','Sex']).mean()"
      ]
    },
    {
      "cell_type": "code",
      "execution_count": 38,
      "metadata": {
        "colab": {
          "base_uri": "https://localhost:8080/",
          "height": 266
        },
        "id": "hzc0zjlJAYvx",
        "outputId": "424d6ce1-1424-426e-f194-712ab4567bee"
      },
      "outputs": [
        {
          "data": {
            "text/html": [
              "<div>\n",
              "<style scoped>\n",
              "    .dataframe tbody tr th:only-of-type {\n",
              "        vertical-align: middle;\n",
              "    }\n",
              "\n",
              "    .dataframe tbody tr th {\n",
              "        vertical-align: top;\n",
              "    }\n",
              "\n",
              "    .dataframe thead th {\n",
              "        text-align: right;\n",
              "    }\n",
              "</style>\n",
              "<table border=\"1\" class=\"dataframe\">\n",
              "  <thead>\n",
              "    <tr style=\"text-align: right;\">\n",
              "      <th></th>\n",
              "      <th></th>\n",
              "      <th>Age</th>\n",
              "      <th>Fare</th>\n",
              "      <th>Parch</th>\n",
              "      <th>PassengerId</th>\n",
              "      <th>SibSp</th>\n",
              "      <th>Survived</th>\n",
              "    </tr>\n",
              "    <tr>\n",
              "      <th>Pclass</th>\n",
              "      <th>Sex</th>\n",
              "      <th></th>\n",
              "      <th></th>\n",
              "      <th></th>\n",
              "      <th></th>\n",
              "      <th></th>\n",
              "      <th></th>\n",
              "    </tr>\n",
              "  </thead>\n",
              "  <tbody>\n",
              "    <tr>\n",
              "      <th rowspan=\"2\" valign=\"top\">1</th>\n",
              "      <th>female</th>\n",
              "      <td>34.611765</td>\n",
              "      <td>106.125798</td>\n",
              "      <td>0.457447</td>\n",
              "      <td>469.212766</td>\n",
              "      <td>0.553191</td>\n",
              "      <td>0.968085</td>\n",
              "    </tr>\n",
              "    <tr>\n",
              "      <th>male</th>\n",
              "      <td>41.281386</td>\n",
              "      <td>67.226127</td>\n",
              "      <td>0.278689</td>\n",
              "      <td>455.729508</td>\n",
              "      <td>0.311475</td>\n",
              "      <td>0.368852</td>\n",
              "    </tr>\n",
              "    <tr>\n",
              "      <th rowspan=\"2\" valign=\"top\">2</th>\n",
              "      <th>female</th>\n",
              "      <td>28.722973</td>\n",
              "      <td>21.970121</td>\n",
              "      <td>0.605263</td>\n",
              "      <td>443.105263</td>\n",
              "      <td>0.486842</td>\n",
              "      <td>0.921053</td>\n",
              "    </tr>\n",
              "    <tr>\n",
              "      <th>male</th>\n",
              "      <td>30.740707</td>\n",
              "      <td>19.741782</td>\n",
              "      <td>0.222222</td>\n",
              "      <td>447.962963</td>\n",
              "      <td>0.342593</td>\n",
              "      <td>0.157407</td>\n",
              "    </tr>\n",
              "    <tr>\n",
              "      <th rowspan=\"2\" valign=\"top\">3</th>\n",
              "      <th>female</th>\n",
              "      <td>21.750000</td>\n",
              "      <td>16.118810</td>\n",
              "      <td>0.798611</td>\n",
              "      <td>399.729167</td>\n",
              "      <td>0.895833</td>\n",
              "      <td>0.500000</td>\n",
              "    </tr>\n",
              "    <tr>\n",
              "      <th>male</th>\n",
              "      <td>26.507589</td>\n",
              "      <td>12.661633</td>\n",
              "      <td>0.224784</td>\n",
              "      <td>455.515850</td>\n",
              "      <td>0.498559</td>\n",
              "      <td>0.135447</td>\n",
              "    </tr>\n",
              "  </tbody>\n",
              "</table>\n",
              "</div>"
            ],
            "text/plain": [
              "                     Age        Fare     Parch  PassengerId     SibSp  Survived\n",
              "Pclass Sex                                                                     \n",
              "1      female  34.611765  106.125798  0.457447   469.212766  0.553191  0.968085\n",
              "       male    41.281386   67.226127  0.278689   455.729508  0.311475  0.368852\n",
              "2      female  28.722973   21.970121  0.605263   443.105263  0.486842  0.921053\n",
              "       male    30.740707   19.741782  0.222222   447.962963  0.342593  0.157407\n",
              "3      female  21.750000   16.118810  0.798611   399.729167  0.895833  0.500000\n",
              "       male    26.507589   12.661633  0.224784   455.515850  0.498559  0.135447"
            ]
          },
          "execution_count": 38,
          "metadata": {},
          "output_type": "execute_result"
        }
      ],
      "source": [
        "df.pivot_table(index=['Pclass','Sex'], aggfunc=np.mean)"
      ]
    },
    {
      "cell_type": "markdown",
      "metadata": {
        "id": "tj2Q00qIAlyD"
      },
      "source": [
        "여기서 조금 더 추가해서 나이에 대해 깊게 파보겠습니다"
      ]
    },
    {
      "cell_type": "code",
      "execution_count": 39,
      "metadata": {
        "colab": {
          "base_uri": "https://localhost:8080/",
          "height": 297
        },
        "id": "B-C43BLCAiXM",
        "outputId": "334bf626-0f9a-4e8b-a7ce-00e138f8f5fe"
      },
      "outputs": [
        {
          "data": {
            "text/html": [
              "<div>\n",
              "<style scoped>\n",
              "    .dataframe tbody tr th:only-of-type {\n",
              "        vertical-align: middle;\n",
              "    }\n",
              "\n",
              "    .dataframe tbody tr th {\n",
              "        vertical-align: top;\n",
              "    }\n",
              "\n",
              "    .dataframe thead tr th {\n",
              "        text-align: left;\n",
              "    }\n",
              "\n",
              "    .dataframe thead tr:last-of-type th {\n",
              "        text-align: right;\n",
              "    }\n",
              "</style>\n",
              "<table border=\"1\" class=\"dataframe\">\n",
              "  <thead>\n",
              "    <tr>\n",
              "      <th></th>\n",
              "      <th></th>\n",
              "      <th>mean</th>\n",
              "      <th>amax</th>\n",
              "      <th>amin</th>\n",
              "    </tr>\n",
              "    <tr>\n",
              "      <th></th>\n",
              "      <th></th>\n",
              "      <th>Age</th>\n",
              "      <th>Age</th>\n",
              "      <th>Age</th>\n",
              "    </tr>\n",
              "    <tr>\n",
              "      <th>Pclass</th>\n",
              "      <th>Sex</th>\n",
              "      <th></th>\n",
              "      <th></th>\n",
              "      <th></th>\n",
              "    </tr>\n",
              "  </thead>\n",
              "  <tbody>\n",
              "    <tr>\n",
              "      <th rowspan=\"2\" valign=\"top\">1</th>\n",
              "      <th>female</th>\n",
              "      <td>34.611765</td>\n",
              "      <td>63.0</td>\n",
              "      <td>2.00</td>\n",
              "    </tr>\n",
              "    <tr>\n",
              "      <th>male</th>\n",
              "      <td>41.281386</td>\n",
              "      <td>80.0</td>\n",
              "      <td>0.92</td>\n",
              "    </tr>\n",
              "    <tr>\n",
              "      <th rowspan=\"2\" valign=\"top\">2</th>\n",
              "      <th>female</th>\n",
              "      <td>28.722973</td>\n",
              "      <td>57.0</td>\n",
              "      <td>2.00</td>\n",
              "    </tr>\n",
              "    <tr>\n",
              "      <th>male</th>\n",
              "      <td>30.740707</td>\n",
              "      <td>70.0</td>\n",
              "      <td>0.67</td>\n",
              "    </tr>\n",
              "    <tr>\n",
              "      <th rowspan=\"2\" valign=\"top\">3</th>\n",
              "      <th>female</th>\n",
              "      <td>21.750000</td>\n",
              "      <td>63.0</td>\n",
              "      <td>0.75</td>\n",
              "    </tr>\n",
              "    <tr>\n",
              "      <th>male</th>\n",
              "      <td>26.507589</td>\n",
              "      <td>74.0</td>\n",
              "      <td>0.42</td>\n",
              "    </tr>\n",
              "  </tbody>\n",
              "</table>\n",
              "</div>"
            ],
            "text/plain": [
              "                    mean  amax  amin\n",
              "                     Age   Age   Age\n",
              "Pclass Sex                          \n",
              "1      female  34.611765  63.0  2.00\n",
              "       male    41.281386  80.0  0.92\n",
              "2      female  28.722973  57.0  2.00\n",
              "       male    30.740707  70.0  0.67\n",
              "3      female  21.750000  63.0  0.75\n",
              "       male    26.507589  74.0  0.42"
            ]
          },
          "execution_count": 39,
          "metadata": {},
          "output_type": "execute_result"
        }
      ],
      "source": [
        "df.pivot_table(index=['Pclass','Sex'], values='Age',aggfunc=[np.mean, np.max, np.min])"
      ]
    },
    {
      "cell_type": "code",
      "execution_count": 40,
      "metadata": {
        "colab": {
          "base_uri": "https://localhost:8080/",
          "height": 142
        },
        "id": "iRYIcf1CAuVM",
        "outputId": "cc29bbad-4d54-435b-bcf4-5eb973d253d1"
      },
      "outputs": [
        {
          "data": {
            "text/html": [
              "<div>\n",
              "<style scoped>\n",
              "    .dataframe tbody tr th:only-of-type {\n",
              "        vertical-align: middle;\n",
              "    }\n",
              "\n",
              "    .dataframe tbody tr th {\n",
              "        vertical-align: top;\n",
              "    }\n",
              "\n",
              "    .dataframe thead th {\n",
              "        text-align: right;\n",
              "    }\n",
              "</style>\n",
              "<table border=\"1\" class=\"dataframe\">\n",
              "  <thead>\n",
              "    <tr style=\"text-align: right;\">\n",
              "      <th>Pclass</th>\n",
              "      <th>1</th>\n",
              "      <th>2</th>\n",
              "      <th>3</th>\n",
              "    </tr>\n",
              "    <tr>\n",
              "      <th>Sex</th>\n",
              "      <th></th>\n",
              "      <th></th>\n",
              "      <th></th>\n",
              "    </tr>\n",
              "  </thead>\n",
              "  <tbody>\n",
              "    <tr>\n",
              "      <th>female</th>\n",
              "      <td>0.968085</td>\n",
              "      <td>0.921053</td>\n",
              "      <td>0.500000</td>\n",
              "    </tr>\n",
              "    <tr>\n",
              "      <th>male</th>\n",
              "      <td>0.368852</td>\n",
              "      <td>0.157407</td>\n",
              "      <td>0.135447</td>\n",
              "    </tr>\n",
              "  </tbody>\n",
              "</table>\n",
              "</div>"
            ],
            "text/plain": [
              "Pclass         1         2         3\n",
              "Sex                                 \n",
              "female  0.968085  0.921053  0.500000\n",
              "male    0.368852  0.157407  0.135447"
            ]
          },
          "execution_count": 40,
          "metadata": {},
          "output_type": "execute_result"
        }
      ],
      "source": [
        "df.pivot_table(index='Sex', columns='Pclass', values='Survived', aggfunc=np.mean)"
      ]
    },
    {
      "cell_type": "markdown",
      "metadata": {
        "id": "Eo-WZ-HDBis6"
      },
      "source": [
        "추가 옵션이 두 가지 있습니다\n",
        "- `fill_value` \n",
        "- `margins=True`\n",
        "\n",
        "fill_value는 결측값을 대체해주는 역할을 합니다 fill_value=0으로 두신 다면 결측값들은 0으로 대체 됩니다.  \n",
        "margins는 마지막에 전체 집계결과를 보여줍니다."
      ]
    },
    {
      "cell_type": "code",
      "execution_count": 41,
      "metadata": {
        "colab": {
          "base_uri": "https://localhost:8080/",
          "height": 173
        },
        "id": "WAOfYWL8BZpP",
        "outputId": "d39ac7df-6277-4da2-a687-31b9a26d5201"
      },
      "outputs": [
        {
          "data": {
            "text/html": [
              "<div>\n",
              "<style scoped>\n",
              "    .dataframe tbody tr th:only-of-type {\n",
              "        vertical-align: middle;\n",
              "    }\n",
              "\n",
              "    .dataframe tbody tr th {\n",
              "        vertical-align: top;\n",
              "    }\n",
              "\n",
              "    .dataframe thead th {\n",
              "        text-align: right;\n",
              "    }\n",
              "</style>\n",
              "<table border=\"1\" class=\"dataframe\">\n",
              "  <thead>\n",
              "    <tr style=\"text-align: right;\">\n",
              "      <th>Pclass</th>\n",
              "      <th>1</th>\n",
              "      <th>2</th>\n",
              "      <th>3</th>\n",
              "      <th>All</th>\n",
              "    </tr>\n",
              "    <tr>\n",
              "      <th>Sex</th>\n",
              "      <th></th>\n",
              "      <th></th>\n",
              "      <th></th>\n",
              "      <th></th>\n",
              "    </tr>\n",
              "  </thead>\n",
              "  <tbody>\n",
              "    <tr>\n",
              "      <th>female</th>\n",
              "      <td>0.968085</td>\n",
              "      <td>0.921053</td>\n",
              "      <td>0.500000</td>\n",
              "      <td>0.742038</td>\n",
              "    </tr>\n",
              "    <tr>\n",
              "      <th>male</th>\n",
              "      <td>0.368852</td>\n",
              "      <td>0.157407</td>\n",
              "      <td>0.135447</td>\n",
              "      <td>0.188908</td>\n",
              "    </tr>\n",
              "    <tr>\n",
              "      <th>All</th>\n",
              "      <td>0.629630</td>\n",
              "      <td>0.472826</td>\n",
              "      <td>0.242363</td>\n",
              "      <td>0.383838</td>\n",
              "    </tr>\n",
              "  </tbody>\n",
              "</table>\n",
              "</div>"
            ],
            "text/plain": [
              "Pclass         1         2         3       All\n",
              "Sex                                           \n",
              "female  0.968085  0.921053  0.500000  0.742038\n",
              "male    0.368852  0.157407  0.135447  0.188908\n",
              "All     0.629630  0.472826  0.242363  0.383838"
            ]
          },
          "execution_count": 41,
          "metadata": {},
          "output_type": "execute_result"
        }
      ],
      "source": [
        "df.pivot_table(index='Sex', columns='Pclass', values='Survived', aggfunc=np.mean, margins=True)"
      ]
    }
  ],
  "metadata": {
    "colab": {
      "collapsed_sections": [],
      "name": "2021_11_02_Pandas_tutorial_2.ipynb",
      "provenance": []
    },
    "kernelspec": {
      "display_name": "Python 3",
      "name": "python3"
    },
    "language_info": {
      "name": "python"
    }
  },
  "nbformat": 4,
  "nbformat_minor": 0
}
