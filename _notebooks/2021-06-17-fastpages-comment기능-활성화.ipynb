{
 "cells": [
  {
   "cell_type": "markdown",
   "id": "f06786b4",
   "metadata": {},
   "source": [
    "# Fastpages comment기능 활성화\n",
    "> Fastpages comment기능을 활성화 시키기 방법입니다\n",
    "\n",
    "- toc: true \n",
    "- badges: true\n",
    "- comments: true\n",
    "- author: elefunt\n",
    "- categories: [blog-setting]\n"
   ]
  },
  {
   "cell_type": "markdown",
   "id": "08428ecd",
   "metadata": {},
   "source": [
    "# Comments 기능 위치\n",
    "---\n",
    "fastpage의 포스트 하단에 보시면 Comment 기능이 있습니다.  \n",
    "하지만 바로 사용이 가능한 것은 아닙니다. 활성화를 시켜줘야 다른 사람들이 코멘트를 작성할 수 있습니다.  \n",
    "\n",
    "\n",
    "만약 코멘트 기능을 활성화하지 않은 경우에는 아래와 같은 메세지를 볼 수 있습니다.\n",
    "![](comments/u-1.PNG)\n",
    "# Comments 기능 활성화 하기\n",
    "방법은 매우 간단하고 비용도 무료입니다.  \n",
    "Github App에 있는 utterances 🔮 이 친구를 사용할 것입니다.\n",
    "\n",
    "\n",
    "https://github.com/apps/utterances  \n",
    "일단 위 페이지에 접속해줍니다.\n",
    "\n",
    "\n",
    "방법은 매우 간단합니다\n",
    "1. 우측에 보이는 초록색 버튼 Configure를 눌러서 앱을 추가한다\n",
    "2. fastpages를 포함하고 있는 repo만 활성화 시킨다.\n",
    " \n",
    " \n",
    "한 번 함께 해볼게요\n",
    "\n",
    "\n",
    "![](comments/u-2.PNG)\n",
    "\n",
    "\n",
    "이 화면이 보이신다면 잘 오셨습니다. 저는 이미 설정을 완료해서 Configure라고 나오지만 처음 접속했을 때는 초록색 버튼이였습니다.  \n",
    "**클릭해주세요**\n",
    "\n",
    "\n",
    "![](comments/u-3.PNG)\n",
    "\n",
    "\n",
    "그 다음으로 보이는 화면은 어디에다가 utterances를 설치할거냐고 물어보는 것인데 fastpages를 만든 계정에 하셔야합니다.  \n",
    "저는 elephantoid계정에 repo를 생성했기 때문에 elephantoid를 클릭했습니다.\n",
    "\n",
    "\n",
    "![](comments/u-4.PNG)\n",
    "\n",
    "\n",
    "이제 마지막입니다. 여기까지 오셨다면 이미 끝난 것과 다름 없습니다.  \n",
    "빨간색 박스안에 있는 부분을 수정할 것입니다. 초기 setting은 All repo로 되어있지만 `Only select repositories`를 누르고 본인이 fastpages를 담아둔 repo를 선택합니다.  \n",
    "마지막으로 가장 중요한 것 `Save`버튼을 꼭 눌러주세요!!\n",
    "\n",
    "\n",
    "\n",
    "---\n",
    "좀 더 자세한 내용을 알고싶으시다면 [여기](https://utteranc.es/)\n",
    "\n",
    "\n",
    "오늘 포스트가 도움이 되셨으면 좋겠습니다.  \n",
    "뭔가 잘 안되실 경우에는 댓글 달아주세요!"
   ]
  },
  {
   "cell_type": "code",
   "execution_count": null,
   "id": "510a3174",
   "metadata": {},
   "outputs": [],
   "source": []
  }
 ],
 "metadata": {
  "kernelspec": {
   "display_name": "Python 3",
   "language": "python",
   "name": "python3"
  },
  "language_info": {
   "codemirror_mode": {
    "name": "ipython",
    "version": 3
   },
   "file_extension": ".py",
   "mimetype": "text/x-python",
   "name": "python",
   "nbconvert_exporter": "python",
   "pygments_lexer": "ipython3",
   "version": "3.8.8"
  }
 },
 "nbformat": 4,
 "nbformat_minor": 5
}
